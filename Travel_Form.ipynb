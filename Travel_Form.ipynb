{
 "cells": [
  {
   "cell_type": "code",
   "execution_count": 4,
   "metadata": {},
   "outputs": [],
   "source": [
    "from tkinter import *"
   ]
  },
  {
   "cell_type": "code",
   "execution_count": null,
   "metadata": {},
   "outputs": [],
   "source": []
  },
  {
   "cell_type": "code",
   "execution_count": null,
   "metadata": {},
   "outputs": [
    {
     "name": "stdout",
     "output_type": "stream",
     "text": [
      "it works ('Anomynous', '1234567890', 'Male', '100', 'Paypal', 1)\n"
     ]
    }
   ],
   "source": [
    "root = Tk()\n",
    "def getvals():\n",
    "    print(f\"it works {namevalue.get(),phonevalue.get(),gendervalue.get(),emergencyvalue.get(),paymentmodevalue.get(),foodservices.get()}\")\n",
    "\n",
    "root.geometry(\"504x300\")\n",
    "root.title(\"Mahakaal Travels\")\n",
    "\n",
    "l1 = Label(root,text=\"Welcome to Mahakaal Tour & Travel's\",font = \"comicsansms 16 bold\",bg=\"white\",fg=\"Blue\",pady=15)\n",
    "l1.grid(row=0,column=3)\n",
    "\n",
    "name = Label(root,text= \"Name\")\n",
    "phone = Label(root,text=\"Phone\")\n",
    "gender = Label(root,text= \"Gender\")\n",
    "emergency = Label(root,text= \"Emergency No.\")\n",
    "paymentmode = Label(root,text= \"Payment Mode\")\n",
    "\n",
    "name.grid(row=1,column=2)\n",
    "phone.grid(row=2,column=2)\n",
    "gender.grid(row=3,column=2)\n",
    "emergency.grid(row=4,column=2)\n",
    "paymentmode.grid(row=5,column=2)\n",
    "\n",
    "namevalue = StringVar() \n",
    "phonevalue = StringVar()\n",
    "gendervalue = StringVar()\n",
    "emergencyvalue = StringVar()\n",
    "paymentmodevalue = StringVar()\n",
    "foodservices = IntVar()\n",
    "\n",
    "nameentry = Entry(root, text = namevalue)\n",
    "phoneentry = Entry(root, text = phonevalue)\n",
    "genderentry = Entry(root, text = gendervalue)\n",
    "emergencyentry = Entry(root, text = emergencyvalue)\n",
    "paymentmodeentry = Entry(root, text = paymentmodevalue)\n",
    "\n",
    "nameentry.grid(row=1, column=3)\n",
    "phoneentry.grid(row=2, column=3)\n",
    "genderentry.grid(row=3, column=3)\n",
    "emergencyentry.grid(row=4, column=3)\n",
    "paymentmodeentry.grid(row=5, column=3)\n",
    "\n",
    "#Checkbutton\n",
    "foodservicesbutton = Checkbutton(text=\"Want to book your Meal?\",variable=foodservices)\n",
    "foodservicesbutton.grid(row=6,column=3)\n",
    " \n",
    "#Button\n",
    "b1 = Button(root,text=\"Submit\",command=getvals,borderwidth=5)\n",
    "b1.grid(row=7,column=3)\n",
    "\n",
    "root.mainloop()"
   ]
  },
  {
   "cell_type": "code",
   "execution_count": null,
   "metadata": {},
   "outputs": [],
   "source": []
  },
  {
   "cell_type": "code",
   "execution_count": null,
   "metadata": {},
   "outputs": [],
   "source": []
  }
 ],
 "metadata": {
  "kernelspec": {
   "display_name": "Python 3",
   "language": "python",
   "name": "python3"
  },
  "language_info": {
   "codemirror_mode": {
    "name": "ipython",
    "version": 3
   },
   "file_extension": ".py",
   "mimetype": "text/x-python",
   "name": "python",
   "nbconvert_exporter": "python",
   "pygments_lexer": "ipython3",
   "version": "3.7.9"
  }
 },
 "nbformat": 4,
 "nbformat_minor": 4
}
